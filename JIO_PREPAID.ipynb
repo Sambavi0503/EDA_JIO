{
 "cells": [
  {
   "cell_type": "code",
   "execution_count": 1,
   "id": "b9dd3982",
   "metadata": {},
   "outputs": [],
   "source": [
    "import pandas as pd\n",
    "import numpy as np\n",
    "import matplotlib.pyplot as plt"
   ]
  },
  {
   "cell_type": "code",
   "execution_count": 2,
   "id": "97d8c930",
   "metadata": {},
   "outputs": [],
   "source": [
    "df=pd.read_csv('Jio - Jio Prepaid Planes.csv')"
   ]
  },
  {
   "cell_type": "code",
   "execution_count": 3,
   "id": "3f3ff255",
   "metadata": {},
   "outputs": [
    {
     "data": {
      "text/html": [
       "<div>\n",
       "<style scoped>\n",
       "    .dataframe tbody tr th:only-of-type {\n",
       "        vertical-align: middle;\n",
       "    }\n",
       "\n",
       "    .dataframe tbody tr th {\n",
       "        vertical-align: top;\n",
       "    }\n",
       "\n",
       "    .dataframe thead th {\n",
       "        text-align: right;\n",
       "    }\n",
       "</style>\n",
       "<table border=\"1\" class=\"dataframe\">\n",
       "  <thead>\n",
       "    <tr style=\"text-align: right;\">\n",
       "      <th></th>\n",
       "      <th>Days</th>\n",
       "      <th>Price</th>\n",
       "      <th>Price/Day</th>\n",
       "      <th>For 365 Days</th>\n",
       "      <th>Profit per customer</th>\n",
       "      <th>From 400 Million users</th>\n",
       "      <th>Data_per_day</th>\n",
       "    </tr>\n",
       "  </thead>\n",
       "  <tbody>\n",
       "    <tr>\n",
       "      <th>0</th>\n",
       "      <td>28</td>\n",
       "      <td>209</td>\n",
       "      <td>7.464286</td>\n",
       "      <td>2724.464286</td>\n",
       "      <td>5.214286</td>\n",
       "      <td>2085.714286</td>\n",
       "      <td>1.0</td>\n",
       "    </tr>\n",
       "    <tr>\n",
       "      <th>1</th>\n",
       "      <td>24</td>\n",
       "      <td>179</td>\n",
       "      <td>7.458333</td>\n",
       "      <td>2722.291667</td>\n",
       "      <td>3.041667</td>\n",
       "      <td>1216.666667</td>\n",
       "      <td>1.0</td>\n",
       "    </tr>\n",
       "    <tr>\n",
       "      <th>2</th>\n",
       "      <td>20</td>\n",
       "      <td>149</td>\n",
       "      <td>7.450000</td>\n",
       "      <td>2719.250000</td>\n",
       "      <td>0.000000</td>\n",
       "      <td>0.000000</td>\n",
       "      <td>1.0</td>\n",
       "    </tr>\n",
       "    <tr>\n",
       "      <th>3</th>\n",
       "      <td>336</td>\n",
       "      <td>2545</td>\n",
       "      <td>7.574405</td>\n",
       "      <td>2764.657738</td>\n",
       "      <td>0.000000</td>\n",
       "      <td>0.000000</td>\n",
       "      <td>1.5</td>\n",
       "    </tr>\n",
       "    <tr>\n",
       "      <th>4</th>\n",
       "      <td>84</td>\n",
       "      <td>666</td>\n",
       "      <td>7.928571</td>\n",
       "      <td>2893.928571</td>\n",
       "      <td>129.270833</td>\n",
       "      <td>51708.333330</td>\n",
       "      <td>1.5</td>\n",
       "    </tr>\n",
       "    <tr>\n",
       "      <th>5</th>\n",
       "      <td>56</td>\n",
       "      <td>479</td>\n",
       "      <td>8.553571</td>\n",
       "      <td>3122.053571</td>\n",
       "      <td>357.395833</td>\n",
       "      <td>142958.333300</td>\n",
       "      <td>1.5</td>\n",
       "    </tr>\n",
       "    <tr>\n",
       "      <th>6</th>\n",
       "      <td>30</td>\n",
       "      <td>259</td>\n",
       "      <td>8.633333</td>\n",
       "      <td>3151.166667</td>\n",
       "      <td>386.508929</td>\n",
       "      <td>154603.571400</td>\n",
       "      <td>1.5</td>\n",
       "    </tr>\n",
       "    <tr>\n",
       "      <th>7</th>\n",
       "      <td>28</td>\n",
       "      <td>239</td>\n",
       "      <td>8.535714</td>\n",
       "      <td>3115.535714</td>\n",
       "      <td>350.877976</td>\n",
       "      <td>140351.190500</td>\n",
       "      <td>1.5</td>\n",
       "    </tr>\n",
       "    <tr>\n",
       "      <th>8</th>\n",
       "      <td>23</td>\n",
       "      <td>199</td>\n",
       "      <td>8.652174</td>\n",
       "      <td>3158.043478</td>\n",
       "      <td>393.385740</td>\n",
       "      <td>157354.296100</td>\n",
       "      <td>1.5</td>\n",
       "    </tr>\n",
       "    <tr>\n",
       "      <th>9</th>\n",
       "      <td>14</td>\n",
       "      <td>119</td>\n",
       "      <td>8.500000</td>\n",
       "      <td>3102.500000</td>\n",
       "      <td>337.842262</td>\n",
       "      <td>135136.904800</td>\n",
       "      <td>1.5</td>\n",
       "    </tr>\n",
       "    <tr>\n",
       "      <th>10</th>\n",
       "      <td>365</td>\n",
       "      <td>2879</td>\n",
       "      <td>7.887671</td>\n",
       "      <td>2879.000000</td>\n",
       "      <td>0.000000</td>\n",
       "      <td>0.000000</td>\n",
       "      <td>2.0</td>\n",
       "    </tr>\n",
       "    <tr>\n",
       "      <th>11</th>\n",
       "      <td>56</td>\n",
       "      <td>533</td>\n",
       "      <td>9.517857</td>\n",
       "      <td>3474.017857</td>\n",
       "      <td>595.017857</td>\n",
       "      <td>238007.142900</td>\n",
       "      <td>2.0</td>\n",
       "    </tr>\n",
       "    <tr>\n",
       "      <th>12</th>\n",
       "      <td>28</td>\n",
       "      <td>299</td>\n",
       "      <td>10.678571</td>\n",
       "      <td>3897.678571</td>\n",
       "      <td>1018.678571</td>\n",
       "      <td>407471.428600</td>\n",
       "      <td>2.0</td>\n",
       "    </tr>\n",
       "    <tr>\n",
       "      <th>13</th>\n",
       "      <td>23</td>\n",
       "      <td>249</td>\n",
       "      <td>10.826087</td>\n",
       "      <td>3951.521739</td>\n",
       "      <td>1072.521739</td>\n",
       "      <td>429008.695700</td>\n",
       "      <td>2.0</td>\n",
       "    </tr>\n",
       "    <tr>\n",
       "      <th>14</th>\n",
       "      <td>84</td>\n",
       "      <td>1199</td>\n",
       "      <td>14.273810</td>\n",
       "      <td>5209.940476</td>\n",
       "      <td>0.000000</td>\n",
       "      <td>0.000000</td>\n",
       "      <td>3.0</td>\n",
       "    </tr>\n",
       "    <tr>\n",
       "      <th>15</th>\n",
       "      <td>28</td>\n",
       "      <td>419</td>\n",
       "      <td>14.964286</td>\n",
       "      <td>5461.964286</td>\n",
       "      <td>252.023809</td>\n",
       "      <td>100809.523800</td>\n",
       "      <td>3.0</td>\n",
       "    </tr>\n",
       "  </tbody>\n",
       "</table>\n",
       "</div>"
      ],
      "text/plain": [
       "    Days  Price  Price/Day  For 365 Days  Profit per customer  \\\n",
       "0     28    209   7.464286   2724.464286             5.214286   \n",
       "1     24    179   7.458333   2722.291667             3.041667   \n",
       "2     20    149   7.450000   2719.250000             0.000000   \n",
       "3    336   2545   7.574405   2764.657738             0.000000   \n",
       "4     84    666   7.928571   2893.928571           129.270833   \n",
       "5     56    479   8.553571   3122.053571           357.395833   \n",
       "6     30    259   8.633333   3151.166667           386.508929   \n",
       "7     28    239   8.535714   3115.535714           350.877976   \n",
       "8     23    199   8.652174   3158.043478           393.385740   \n",
       "9     14    119   8.500000   3102.500000           337.842262   \n",
       "10   365   2879   7.887671   2879.000000             0.000000   \n",
       "11    56    533   9.517857   3474.017857           595.017857   \n",
       "12    28    299  10.678571   3897.678571          1018.678571   \n",
       "13    23    249  10.826087   3951.521739          1072.521739   \n",
       "14    84   1199  14.273810   5209.940476             0.000000   \n",
       "15    28    419  14.964286   5461.964286           252.023809   \n",
       "\n",
       "    From 400 Million users  Data_per_day  \n",
       "0              2085.714286           1.0  \n",
       "1              1216.666667           1.0  \n",
       "2                 0.000000           1.0  \n",
       "3                 0.000000           1.5  \n",
       "4             51708.333330           1.5  \n",
       "5            142958.333300           1.5  \n",
       "6            154603.571400           1.5  \n",
       "7            140351.190500           1.5  \n",
       "8            157354.296100           1.5  \n",
       "9            135136.904800           1.5  \n",
       "10                0.000000           2.0  \n",
       "11           238007.142900           2.0  \n",
       "12           407471.428600           2.0  \n",
       "13           429008.695700           2.0  \n",
       "14                0.000000           3.0  \n",
       "15           100809.523800           3.0  "
      ]
     },
     "execution_count": 3,
     "metadata": {},
     "output_type": "execute_result"
    }
   ],
   "source": [
    "df"
   ]
  },
  {
   "cell_type": "code",
   "execution_count": 4,
   "id": "d17e563e",
   "metadata": {},
   "outputs": [
    {
     "data": {
      "text/plain": [
       "(16, 7)"
      ]
     },
     "execution_count": 4,
     "metadata": {},
     "output_type": "execute_result"
    }
   ],
   "source": [
    "df.shape"
   ]
  },
  {
   "cell_type": "code",
   "execution_count": 6,
   "id": "62ed53bb",
   "metadata": {},
   "outputs": [
    {
     "data": {
      "text/plain": [
       "Index(['Days', 'Price', 'Price/Day', 'For 365 Days', 'Profit per customer',\n",
       "       'From 400 Million users', 'Data_per_day'],\n",
       "      dtype='object')"
      ]
     },
     "execution_count": 6,
     "metadata": {},
     "output_type": "execute_result"
    }
   ],
   "source": [
    "df.columns"
   ]
  },
  {
   "cell_type": "code",
   "execution_count": 8,
   "id": "288ee05c",
   "metadata": {},
   "outputs": [
    {
     "data": {
      "text/plain": [
       "Days                      0\n",
       "Price                     0\n",
       "Price/Day                 0\n",
       "For 365 Days              0\n",
       "Profit per customer       0\n",
       "From 400 Million users    0\n",
       "Data_per_day              0\n",
       "dtype: int64"
      ]
     },
     "execution_count": 8,
     "metadata": {},
     "output_type": "execute_result"
    }
   ],
   "source": [
    "# checking for null values in df\n",
    "\n",
    "df.isna().sum()"
   ]
  },
  {
   "cell_type": "code",
   "execution_count": 9,
   "id": "280be726",
   "metadata": {},
   "outputs": [
    {
     "name": "stdout",
     "output_type": "stream",
     "text": [
      "<class 'pandas.core.frame.DataFrame'>\n",
      "RangeIndex: 16 entries, 0 to 15\n",
      "Data columns (total 7 columns):\n",
      " #   Column                  Non-Null Count  Dtype  \n",
      "---  ------                  --------------  -----  \n",
      " 0   Days                    16 non-null     int64  \n",
      " 1   Price                   16 non-null     int64  \n",
      " 2   Price/Day               16 non-null     float64\n",
      " 3   For 365 Days            16 non-null     float64\n",
      " 4   Profit per customer     16 non-null     float64\n",
      " 5   From 400 Million users  16 non-null     float64\n",
      " 6   Data_per_day            16 non-null     float64\n",
      "dtypes: float64(5), int64(2)\n",
      "memory usage: 1.0 KB\n"
     ]
    }
   ],
   "source": [
    "df.info()"
   ]
  },
  {
   "cell_type": "code",
   "execution_count": 10,
   "id": "896be86f",
   "metadata": {},
   "outputs": [
    {
     "data": {
      "text/plain": [
       "<bound method NDFrame.describe of     Days  Price  Price/Day  For 365 Days  Profit per customer  \\\n",
       "0     28    209   7.464286   2724.464286             5.214286   \n",
       "1     24    179   7.458333   2722.291667             3.041667   \n",
       "2     20    149   7.450000   2719.250000             0.000000   \n",
       "3    336   2545   7.574405   2764.657738             0.000000   \n",
       "4     84    666   7.928571   2893.928571           129.270833   \n",
       "5     56    479   8.553571   3122.053571           357.395833   \n",
       "6     30    259   8.633333   3151.166667           386.508929   \n",
       "7     28    239   8.535714   3115.535714           350.877976   \n",
       "8     23    199   8.652174   3158.043478           393.385740   \n",
       "9     14    119   8.500000   3102.500000           337.842262   \n",
       "10   365   2879   7.887671   2879.000000             0.000000   \n",
       "11    56    533   9.517857   3474.017857           595.017857   \n",
       "12    28    299  10.678571   3897.678571          1018.678571   \n",
       "13    23    249  10.826087   3951.521739          1072.521739   \n",
       "14    84   1199  14.273810   5209.940476             0.000000   \n",
       "15    28    419  14.964286   5461.964286           252.023809   \n",
       "\n",
       "    From 400 Million users  Data_per_day  \n",
       "0              2085.714286           1.0  \n",
       "1              1216.666667           1.0  \n",
       "2                 0.000000           1.0  \n",
       "3                 0.000000           1.5  \n",
       "4             51708.333330           1.5  \n",
       "5            142958.333300           1.5  \n",
       "6            154603.571400           1.5  \n",
       "7            140351.190500           1.5  \n",
       "8            157354.296100           1.5  \n",
       "9            135136.904800           1.5  \n",
       "10                0.000000           2.0  \n",
       "11           238007.142900           2.0  \n",
       "12           407471.428600           2.0  \n",
       "13           429008.695700           2.0  \n",
       "14                0.000000           3.0  \n",
       "15           100809.523800           3.0  >"
      ]
     },
     "execution_count": 10,
     "metadata": {},
     "output_type": "execute_result"
    }
   ],
   "source": [
    "df.describe"
   ]
  },
  {
   "cell_type": "code",
   "execution_count": 17,
   "id": "e3ab4c95",
   "metadata": {},
   "outputs": [],
   "source": [
    "max_profit=df['Profit per customer'].max()\n",
    "max_profit_plan=df.loc[df['Profit per customer']==max_profit,'Days'].iloc[0]"
   ]
  },
  {
   "cell_type": "code",
   "execution_count": 19,
   "id": "8b4689c6",
   "metadata": {},
   "outputs": [
    {
     "name": "stdout",
     "output_type": "stream",
     "text": [
      "Plan with max profit is 23 days plan\n"
     ]
    }
   ],
   "source": [
    "print('Plan with max profit is {} days plan'.format(max_profit_plan))"
   ]
  },
  {
   "cell_type": "code",
   "execution_count": 20,
   "id": "866d7878",
   "metadata": {},
   "outputs": [
    {
     "data": {
      "text/plain": [
       "23"
      ]
     },
     "execution_count": 20,
     "metadata": {},
     "output_type": "execute_result"
    }
   ],
   "source": [
    "max_profit_plan"
   ]
  },
  {
   "cell_type": "code",
   "execution_count": 22,
   "id": "35550990",
   "metadata": {},
   "outputs": [
    {
     "data": {
      "text/plain": [
       "<matplotlib.legend.Legend at 0x1430d2fb220>"
      ]
     },
     "execution_count": 22,
     "metadata": {},
     "output_type": "execute_result"
    },
    {
     "data": {
      "image/png": "[encoded data removed]",
      "text/plain": [
       "<Figure size 640x480 with 1 Axes>"
      ]
     },
     "metadata": {},
     "output_type": "display_data"
    }
   ],
   "source": [
    "df.Data_per_day.plot(kind='hist',color='red')\n",
    "plt.legend()"
   ]
  },
  {
   "cell_type": "code",
   "execution_count": null,
   "id": "d4d09689",
   "metadata": {},
   "outputs": [],
   "source": [
    "df.plot(x=\"Days\", y=\"Data_per_day\", kind=\"bar\", figsize=(9, 8), color = 'lightcoral')\n",
    "plt.show()"
   ]
  },
  {
   "cell_type": "code",
   "execution_count": 28,
   "id": "c651a457",
   "metadata": {},
   "outputs": [
    {
     "data": {
      "image/png": "[encoded data removed]",
      "text/plain": [
       "<Figure size 900x800 with 1 Axes>"
      ]
     },
     "metadata": {},
     "output_type": "display_data"
    }
   ],
   "source": [
    "df.plot(x='Days',y='Data_per_day',kind='bar',figsize=(9,8),color='red')\n",
    "plt.show()"
   ]
  },
  {
   "cell_type": "code",
   "execution_count": 33,
   "id": "2e0061a1",
   "metadata": {},
   "outputs": [
    {
     "data": {
      "text/plain": [
       "<Axes: xlabel='Days', ylabel='Profit per customer'>"
      ]
     },
     "execution_count": 33,
     "metadata": {},
     "output_type": "execute_result"
    },
    {
     "data": {
      "image/png": "[encoded data removed]",
      "text/plain": [
       "<Figure size 2500x800 with 1 Axes>"
      ]
     },
     "metadata": {},
     "output_type": "display_data"
    }
   ],
   "source": [
    "import seaborn as sns\n",
    "plt.figure(figsize = (25,8))\n",
    "sns.barplot(x = 'Days', y = 'Profit per customer', data = df)"
   ]
  },
  {
   "cell_type": "code",
   "execution_count": null,
   "id": "a563d5eb",
   "metadata": {},
   "outputs": [],
   "source": []
  },
  {
   "cell_type": "code",
   "execution_count": null,
   "id": "3c82b81f",
   "metadata": {},
   "outputs": [],
   "source": []
  }
 ],
 "metadata": {
  "kernelspec": {
   "display_name": "Python 3 (ipykernel)",
   "language": "python",
   "name": "python3"
  },
  "language_info": {
   "codemirror_mode": {
    "name": "ipython",
    "version": 3
   },
   "file_extension": ".py",
   "mimetype": "text/x-python",
   "name": "python",
   "nbconvert_exporter": "python",
   "pygments_lexer": "ipython3",
   "version": "3.10.9"
  },
  "varInspector": {
   "cols": {
    "lenName": 16,
    "lenType": 16,
    "lenVar": 40
   },
   "kernels_config": {
    "python": {
     "delete_cmd_postfix": "",
     "delete_cmd_prefix": "del ",
     "library": "var_list.py",
     "varRefreshCmd": "print(var_dic_list())"
    },
    "r": {
     "delete_cmd_postfix": ") ",
     "delete_cmd_prefix": "rm(",
     "library": "var_list.r",
     "varRefreshCmd": "cat(var_dic_list()) "
    }
   },
   "types_to_exclude": [
    "module",
    "function",
    "builtin_function_or_method",
    "instance",
    "_Feature"
   ],
   "window_display": false
  }
 },
 "nbformat": 4,
 "nbformat_minor": 5
}
